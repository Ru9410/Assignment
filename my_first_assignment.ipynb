{
  "nbformat": 4,
  "nbformat_minor": 0,
  "metadata": {
    "colab": {
      "provenance": []
    },
    "kernelspec": {
      "name": "python3",
      "display_name": "Python 3"
    },
    "language_info": {
      "name": "python"
    }
  },
  "cells": [
    {
      "cell_type": "markdown",
      "source": [
        "1. Explain the key features of python that make it a popular choice for programming?\n",
        "- Python is a very popular programming language.\n",
        "  key features:-\n",
        "  > High level language:-python is a high-level and general-purpose programming language which simplifies the process of developing a program.The code written in python is more close to human language and away from machine language.\n",
        "  > Easy to learn and use:-Python has simple English like statements which are easy to learn and use. Anybody can easily get used to its syntax and can expertise in it.\n",
        "  > Expressive language:-Python supports simple code that expresses itself in a few lines to do big and complicated tasks.\n",
        "  > Free and open source:-Python code is developed under OSI-approved open source license which allows it to be downloaded free of cost from its official website https://www.python.org. The code can be modified nand distributed further even for commercial purposes.\n",
        "  > Interpreted Language:-Python uses an interpreter where the source code is converted and executed line by line at a time.\n",
        "  > Object-Oriented Language:-Python supports the concept of classes and objects that makes its code efficient and reusable with important features like polymorphism,inheritance,data encapsulation, etc.\n",
        "  > Supports GUI:-Python supports Graphical User Interface which makes its more user friendly and easy for the programmers to design code.\n"
      ],
      "metadata": {
        "id": "xeS3Co7egEvr"
      }
    },
    {
      "cell_type": "markdown",
      "source": [
        "2.Second Question"
      ],
      "metadata": {
        "id": "Qhwyq_LR3uGr"
      }
    },
    {
      "cell_type": "code",
      "source": [
        "# question"
      ],
      "metadata": {
        "id": "v6veqEok3t47"
      },
      "execution_count": 9,
      "outputs": []
    },
    {
      "cell_type": "markdown",
      "source": [
        " 2. Decribe the role of predefined keywords in Python and provide examples of how they are used in a program?\n",
        " > In Python, predefined keywords are reserved words with specific meanings that form the language's syntax and structure, enabling the interpreter to understand and execute code correctly. They cannot be used as variable names or identifiers and include words like if, else, for, def, and import."
      ],
      "metadata": {
        "id": "RX2l9rhv4VPc"
      }
    },
    {
      "cell_type": "code",
      "execution_count": 10,
      "metadata": {
        "colab": {
          "base_uri": "https://localhost:8080/"
        },
        "id": "NW37CHm_fNMh",
        "outputId": "69a433de-09dc-4a05-9ed6-6caae2ace852"
      },
      "outputs": [
        {
          "output_type": "stream",
          "name": "stdout",
          "text": [
            "greater\n"
          ]
        }
      ],
      "source": [
        "if 3 > 2:\n",
        "  print(\"greater\")"
      ]
    },
    {
      "cell_type": "markdown",
      "source": [
        "3.Third question\n"
      ],
      "metadata": {
        "id": "eOjYszvW6dl4"
      }
    },
    {
      "cell_type": "code",
      "source": [
        "# question"
      ],
      "metadata": {
        "id": "j-8rQlTe6dN7"
      },
      "execution_count": 8,
      "outputs": []
    },
    {
      "cell_type": "markdown",
      "source": [
        "> Compare and contrast mutable and immutable objects in Python with examples\n",
        "\n",
        "> Mutable objects are those whose values can be changed after they are created.\n",
        " > Example:- List, Dictionaries, Set.\n",
        "\n",
        "> Immutable objects are those whose values cannot be changed after they are created.\n",
        "  > Example:- Strings, types and integer.\n",
        "\n",
        "   "
      ],
      "metadata": {
        "id": "Hju9W0WQ6y5j"
      }
    },
    {
      "cell_type": "markdown",
      "source": [
        "4. Question\n"
      ],
      "metadata": {
        "id": "y14jScdQHPxO"
      }
    },
    {
      "cell_type": "code",
      "source": [
        "# question"
      ],
      "metadata": {
        "id": "hhEET1ylf2K7"
      },
      "execution_count": 7,
      "outputs": []
    },
    {
      "cell_type": "markdown",
      "source": [
        "Discuss the different types of operators in Python and provide examples of how they are used ?\n",
        " > Python operators are special symbols that perform specific operations on operands (values or variables). They are broadly categorized into arithmetic, comparison, assignment, logical, identity, membership, and bitwise operators, each serving distinct purposes."
      ],
      "metadata": {
        "id": "zTPhiJKjHaxd"
      }
    },
    {
      "cell_type": "markdown",
      "source": [
        "Example of Python Arithmetic Operators"
      ],
      "metadata": {
        "id": "KoSKX8xlIjum"
      }
    },
    {
      "cell_type": "code",
      "source": [
        "a = 21\n",
        "b = 10\n",
        "# Addition\n",
        "print (\"a + b : \", a + b)\n",
        "# Subtraction\n",
        "print (\"a - b : \", a - b)\n",
        "# Multiplication\n",
        "print (\"a * b : \", a * b)\n",
        "# Division\n",
        "print (\"a / b : \", a / b)\n",
        "# Modulus\n",
        "print (\"a % b : \", a % b)\n",
        "# Exponent\n",
        "print (\"a ** b : \", a ** b)\n",
        "# Floor Division\n",
        "print (\"a // b : \", a // b)"
      ],
      "metadata": {
        "colab": {
          "base_uri": "https://localhost:8080/"
        },
        "id": "PJK14FTcImpy",
        "outputId": "a95d9c60-9546-47fa-9eb8-0d8a66784ba4"
      },
      "execution_count": 5,
      "outputs": [
        {
          "output_type": "stream",
          "name": "stdout",
          "text": [
            "a + b :  31\n",
            "a - b :  11\n",
            "a * b :  210\n",
            "a / b :  2.1\n",
            "a % b :  1\n",
            "a ** b :  16679880978201\n",
            "a // b :  2\n"
          ]
        }
      ]
    },
    {
      "cell_type": "markdown",
      "source": [
        "5. Question"
      ],
      "metadata": {
        "id": "H9LyiXf9I8oV"
      }
    },
    {
      "cell_type": "markdown",
      "source": [
        "Explain the concept of type casting in Python with examples"
      ],
      "metadata": {
        "id": "7dWwaPHXJJ4V"
      }
    },
    {
      "cell_type": "code",
      "source": [
        "# question"
      ],
      "metadata": {
        "id": "uTiDmdfNJPVl"
      },
      "execution_count": 6,
      "outputs": []
    },
    {
      "cell_type": "markdown",
      "source": [
        "In Python, type casting is the process of converting a variable from one data type to another, either implicitly (automatically) or explicitly (manually using functions like int(), float(), str()).\n",
        "> Implicit Type Casting:\n",
        "Python automatically handles some type Casting to prevent data loss, for example, converting an integer to a float when performing arithmetic operations.\n",
        "\n",
        "> In Explicit type casting, we manually alter the datatype of a Python object to suit our purpose. For this, we make use of various in-built functions. It is also important to note that, since we forcefully change the data type of the object, there is some risk of data loss."
      ],
      "metadata": {
        "id": "vCgOx8JTL6qA"
      }
    },
    {
      "cell_type": "markdown",
      "source": [
        "Example:-"
      ],
      "metadata": {
        "id": "lYbTwx_DZ77h"
      }
    },
    {
      "cell_type": "code",
      "source": [
        "from binascii import b2a_base64\n",
        "a = \"2\"\n",
        "b = 3\n",
        "int(a)+b"
      ],
      "metadata": {
        "colab": {
          "base_uri": "https://localhost:8080/"
        },
        "id": "pJKPo6eoZ-81",
        "outputId": "ae316947-e07f-4b4b-962c-f8ccde99360b"
      },
      "execution_count": 11,
      "outputs": [
        {
          "output_type": "execute_result",
          "data": {
            "text/plain": [
              "5"
            ]
          },
          "metadata": {},
          "execution_count": 11
        }
      ]
    },
    {
      "cell_type": "code",
      "source": [
        "a =\"2\"\n",
        "print(type(a))\n",
        "print(type(int(a)))"
      ],
      "metadata": {
        "colab": {
          "base_uri": "https://localhost:8080/"
        },
        "id": "QcB7BQ6nJOBF",
        "outputId": "600fbdfd-968b-4087-8d48-237e238efcef"
      },
      "execution_count": 12,
      "outputs": [
        {
          "output_type": "stream",
          "name": "stdout",
          "text": [
            "<class 'str'>\n",
            "<class 'int'>\n"
          ]
        }
      ]
    },
    {
      "cell_type": "code",
      "source": [
        "a = 3.4\n",
        "type(a)"
      ],
      "metadata": {
        "colab": {
          "base_uri": "https://localhost:8080/"
        },
        "id": "eANXg9c6anHn",
        "outputId": "8a175796-cc51-4730-f5fe-59b7beff123d"
      },
      "execution_count": 13,
      "outputs": [
        {
          "output_type": "execute_result",
          "data": {
            "text/plain": [
              "float"
            ]
          },
          "metadata": {},
          "execution_count": 13
        }
      ]
    },
    {
      "cell_type": "code",
      "source": [
        "a"
      ],
      "metadata": {
        "colab": {
          "base_uri": "https://localhost:8080/"
        },
        "id": "NS42vCC-I_wf",
        "outputId": "8da239b2-7782-46c6-bd32-dd95ff16c5ca"
      },
      "execution_count": 14,
      "outputs": [
        {
          "output_type": "execute_result",
          "data": {
            "text/plain": [
              "3.4"
            ]
          },
          "metadata": {},
          "execution_count": 14
        }
      ]
    },
    {
      "cell_type": "code",
      "source": [
        "int(a)"
      ],
      "metadata": {
        "colab": {
          "base_uri": "https://localhost:8080/"
        },
        "id": "TN25kcg6IUPc",
        "outputId": "e50b71f8-23c3-47d2-e600-61a27e7a8781"
      },
      "execution_count": 15,
      "outputs": [
        {
          "output_type": "execute_result",
          "data": {
            "text/plain": [
              "3"
            ]
          },
          "metadata": {},
          "execution_count": 15
        }
      ]
    },
    {
      "cell_type": "markdown",
      "source": [
        "6 Question\n"
      ],
      "metadata": {
        "id": "-kcZ0Oqua8oH"
      }
    },
    {
      "cell_type": "markdown",
      "source": [
        "How do conditional statements work in Python? Illustrate with examples?\n"
      ],
      "metadata": {
        "id": "P59YsTJNbAY_"
      }
    },
    {
      "cell_type": "code",
      "source": [
        "# question"
      ],
      "metadata": {
        "id": "ps-SKnWzITtG"
      },
      "execution_count": 18,
      "outputs": []
    },
    {
      "cell_type": "markdown",
      "source": [
        "> In Python, conditional statements (using if, elif, and else) control the flow of execution based on whether a condition is true or false."
      ],
      "metadata": {
        "id": "2PQgekjHb8DK"
      }
    },
    {
      "cell_type": "markdown",
      "source": [
        "Example:-"
      ],
      "metadata": {
        "id": "SXb5xXdqchb3"
      }
    },
    {
      "cell_type": "code",
      "source": [
        "3>4"
      ],
      "metadata": {
        "colab": {
          "base_uri": "https://localhost:8080/"
        },
        "id": "BpFkJEb3clVo",
        "outputId": "01a29afb-1e94-440c-d93d-d1a838bb3214"
      },
      "execution_count": 16,
      "outputs": [
        {
          "output_type": "execute_result",
          "data": {
            "text/plain": [
              "False"
            ]
          },
          "metadata": {},
          "execution_count": 16
        }
      ]
    },
    {
      "cell_type": "code",
      "source": [
        "1<2"
      ],
      "metadata": {
        "colab": {
          "base_uri": "https://localhost:8080/"
        },
        "id": "SGMdUstmbLuY",
        "outputId": "2f7e1ea3-398a-45d1-deb5-70dd9e5ba4fa"
      },
      "execution_count": 17,
      "outputs": [
        {
          "output_type": "execute_result",
          "data": {
            "text/plain": [
              "True"
            ]
          },
          "metadata": {},
          "execution_count": 17
        }
      ]
    },
    {
      "cell_type": "code",
      "source": [
        "a = 100\n",
        "if a > 0: #execute the if bock, if the condition is true\n",
        "  print(\"The number is greater than 0.\")"
      ],
      "metadata": {
        "colab": {
          "base_uri": "https://localhost:8080/"
        },
        "id": "H2su_KKEcqfc",
        "outputId": "0d57c6c8-2744-48c8-e7f4-a4dcb25b9db7"
      },
      "execution_count": 19,
      "outputs": [
        {
          "output_type": "stream",
          "name": "stdout",
          "text": [
            "The number is greater than 0.\n"
          ]
        }
      ]
    },
    {
      "cell_type": "code",
      "source": [
        "weather = \"rainy\"\n",
        "if weather == \"rainy\":\n",
        "  print(\"I will not play cricket\")"
      ],
      "metadata": {
        "colab": {
          "base_uri": "https://localhost:8080/"
        },
        "id": "GSqW7g16d3Z3",
        "outputId": "83774fd7-e151-4dcd-b778-0f3a9820d412"
      },
      "execution_count": 21,
      "outputs": [
        {
          "output_type": "stream",
          "name": "stdout",
          "text": [
            "I will not play cricket\n"
          ]
        }
      ]
    },
    {
      "cell_type": "markdown",
      "source": [
        "7. Question"
      ],
      "metadata": {
        "id": "mKKLDkd1eYH3"
      }
    },
    {
      "cell_type": "markdown",
      "source": [
        "Describe the different types of loops in Python and their use cases with examples.?"
      ],
      "metadata": {
        "id": "wGhLJXMsecZG"
      }
    },
    {
      "cell_type": "code",
      "source": [
        "#question"
      ],
      "metadata": {
        "id": "ZYNF_SMmbL0y"
      },
      "execution_count": null,
      "outputs": []
    },
    {
      "cell_type": "markdown",
      "source": [
        "> In Python, the two primary types of loops are for loops and while loops, each designed for different use cases, and you can also create nested loops by placing one loop inside another."
      ],
      "metadata": {
        "id": "DhuTet5HejGy"
      }
    },
    {
      "cell_type": "markdown",
      "source": [
        "Example"
      ],
      "metadata": {
        "id": "V05SAVTBfRUo"
      }
    },
    {
      "cell_type": "code",
      "source": [
        "#>> while is a key word used for a while loop"
      ],
      "metadata": {
        "id": "oLKXR-fBbL3z"
      },
      "execution_count": null,
      "outputs": []
    },
    {
      "cell_type": "code",
      "source": [
        "n = 7\n",
        "i = 1\n",
        "while i < n:\n",
        "  print(i)\n",
        "  i = i + i\n",
        "\n"
      ],
      "metadata": {
        "colab": {
          "base_uri": "https://localhost:8080/"
        },
        "collapsed": true,
        "id": "-s_yGFm8bL6j",
        "outputId": "731ebca2-5930-4259-ff85-3c91a1b0b2c4"
      },
      "execution_count": 27,
      "outputs": [
        {
          "output_type": "stream",
          "name": "stdout",
          "text": [
            "1\n",
            "2\n",
            "4\n"
          ]
        }
      ]
    },
    {
      "cell_type": "code",
      "source": [
        "#break terminates/exits the loop\n",
        "n = 7\n",
        "i = 1\n",
        "while i < n:\n",
        "  print(i)\n",
        "  i = i+1\n",
        "  if i == 3:\n",
        "     break\n",
        "else:\n",
        "       print(\"This will be executed when the while is run successfully without any break\")"
      ],
      "metadata": {
        "colab": {
          "base_uri": "https://localhost:8080/"
        },
        "id": "KXi9hxIrbL9m",
        "outputId": "bd887063-b4a6-44e0-916a-c3db8196d1d9"
      },
      "execution_count": 30,
      "outputs": [
        {
          "output_type": "stream",
          "name": "stdout",
          "text": [
            "1\n",
            "2\n"
          ]
        }
      ]
    },
    {
      "cell_type": "code",
      "source": [],
      "metadata": {
        "id": "AJbpa80tbMAc"
      },
      "execution_count": null,
      "outputs": []
    }
  ]
}